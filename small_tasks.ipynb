{
 "cells": [
  {
   "cell_type": "code",
   "execution_count": 8,
   "id": "55e1b14b",
   "metadata": {},
   "outputs": [
    {
     "ename": "ModuleNotFoundError",
     "evalue": "No module named 'pandas'",
     "output_type": "error",
     "traceback": [
      "\u001b[1;31m---------------------------------------------------------------------------\u001b[0m",
      "\u001b[1;31mModuleNotFoundError\u001b[0m                       Traceback (most recent call last)",
      "Cell \u001b[1;32mIn[8], line 1\u001b[0m\n\u001b[1;32m----> 1\u001b[0m \u001b[38;5;28;01mimport\u001b[39;00m \u001b[38;5;21;01mpandas\u001b[39;00m \u001b[38;5;28;01mas\u001b[39;00m \u001b[38;5;21;01mpd\u001b[39;00m\n\u001b[0;32m      2\u001b[0m \u001b[38;5;28;01mimport\u001b[39;00m \u001b[38;5;21;01mnumpy\u001b[39;00m \u001b[38;5;28;01mas\u001b[39;00m \u001b[38;5;21;01mnp\u001b[39;00m\n\u001b[0;32m      3\u001b[0m \u001b[38;5;28;01mimport\u001b[39;00m \u001b[38;5;21;01mseaborn\u001b[39;00m \u001b[38;5;28;01mas\u001b[39;00m \u001b[38;5;21;01msns\u001b[39;00m\n",
      "\u001b[1;31mModuleNotFoundError\u001b[0m: No module named 'pandas'"
     ]
    }
   ],
   "source": [
    "import pandas as pd\n",
    "import numpy as np\n",
    "import seaborn as sns\n",
    "import matplotlib.pyplot as plt\n",
    "from pandas.api.types import is_numeric_dtype\n",
    "sns.set(rc={'figure.dpi':300})"
   ]
  },
  {
   "cell_type": "code",
   "execution_count": 9,
   "id": "48f55f60",
   "metadata": {},
   "outputs": [
    {
     "ename": "ModuleNotFoundError",
     "evalue": "No module named 'sklearn'",
     "output_type": "error",
     "traceback": [
      "\u001b[1;31m---------------------------------------------------------------------------\u001b[0m",
      "\u001b[1;31mModuleNotFoundError\u001b[0m                       Traceback (most recent call last)",
      "Cell \u001b[1;32mIn[9], line 1\u001b[0m\n\u001b[1;32m----> 1\u001b[0m \u001b[38;5;28;01mimport\u001b[39;00m \u001b[38;5;21;01msklearn\u001b[39;00m\n",
      "\u001b[1;31mModuleNotFoundError\u001b[0m: No module named 'sklearn'"
     ]
    }
   ],
   "source": [
    "\n",
    "import sklearn"
   ]
  },
  {
   "cell_type": "markdown",
   "id": "47892bd7",
   "metadata": {},
   "source": [
    "# Linear regression"
   ]
  },
  {
   "cell_type": "markdown",
   "id": "649a13f8",
   "metadata": {},
   "source": [
    "\n",
    "\n",
    "<img src=\"img/linear_regression.png\" alt=\"linear_regression\" width=\"800\" style=\"float: left;\"/>"
   ]
  },
  {
   "cell_type": "markdown",
   "id": "7eb63a7a",
   "metadata": {},
   "source": [
    "Используя функцию [pd.read_csv](https://pandas.pydata.org/pandas-docs/stable/reference/api/pandas.read_csv.html) прочтите данные из файла \"data/advertising.csv\""
   ]
  },
  {
   "cell_type": "code",
   "execution_count": null,
   "id": "8234a9f3",
   "metadata": {},
   "outputs": [],
   "source": [
    "data = pd.read_csv(\"data/advertising.csv\")\n",
    "data"
   ]
  },
  {
   "cell_type": "code",
   "execution_count": null,
   "id": "5ba025c7",
   "metadata": {},
   "outputs": [],
   "source": [
    "target = 'Sales'\n",
    "features = [c for c in data.columns if c != target]"
   ]
  },
  {
   "cell_type": "code",
   "execution_count": null,
   "id": "6e113789",
   "metadata": {},
   "outputs": [],
   "source": [
    "sns.pairplot(data, x_vars=..., y_vars=..., height=4, kind='scatter')\n",
    "plt.show()"
   ]
  },
  {
   "cell_type": "markdown",
   "id": "0f9f545e",
   "metadata": {},
   "source": [
    "Используя функцию [train_test_split](https://scikit-learn.org/stable/modules/generated/sklearn.model_selection.train_test_split.html) библиотеки sklearn, разбейте данные на обучающую и тестовую выборки. Размер тестовой выборки - 20% от всей выборки."
   ]
  },
  {
   "cell_type": "code",
   "execution_count": null,
   "id": "611c0db6",
   "metadata": {},
   "outputs": [],
   "source": [
    "from sklearn.model_selection import train_test_split\n",
    "X, Y = data[features], data[target]\n",
    "X_train, X_test, Y_train, Y_test = ..."
   ]
  },
  {
   "cell_type": "markdown",
   "id": "e0278556",
   "metadata": {},
   "source": [
    "Расскоментирйте код внизу и расставьте строки в правильном порядке с тем чтобы успешно обучить модель линейной регрессии и оценить качество предсказания с помощью R<sup>2</sup>-score"
   ]
  },
  {
   "cell_type": "code",
   "execution_count": null,
   "id": "90b1f919",
   "metadata": {},
   "outputs": [],
   "source": [
    "# from sklearn.linear_model import LinearRegression\n",
    "# r2_score(Y_test, Y_pred)\n",
    "# model.fit(X_train, Y_train)\n",
    "# from sklearn.metrics import r2_score\n",
    "# Y_pred = model.predict(X_test)\n",
    "# model = LinearRegression()"
   ]
  },
  {
   "cell_type": "code",
   "execution_count": null,
   "id": "8c51e046",
   "metadata": {},
   "outputs": [],
   "source": [
    "low, high = np.min(np.minimum(Y_test, Y_pred)), np.max(np.maximum(Y_test, Y_pred))\n",
    "ax = sns.scatterplot(x=Y_test, y=Y_pred)\n",
    "sns.lineplot(x=[low, high], y=[low, high], ax=ax)\n",
    "ax.set_ylabel(f'Predicted {target}')"
   ]
  },
  {
   "cell_type": "markdown",
   "id": "3488d976",
   "metadata": {},
   "source": [
    "# Decision tree and overfitting"
   ]
  },
  {
   "cell_type": "markdown",
   "id": "baddcd51",
   "metadata": {},
   "source": [
    "<img src=\"img/dt_meme.jpeg\" alt=\"decision tree\" style=\"float: left;\"/>"
   ]
  },
  {
   "cell_type": "markdown",
   "id": "c76421f0",
   "metadata": {},
   "source": [
    "Прочтите данные из файла \"data/sales.csv\", выведите несколько первых строчек прочитанной таблицы, используя метод [.head](https://pandas.pydata.org/docs/reference/api/pandas.DataFrame.head.html) "
   ]
  },
  {
   "cell_type": "code",
   "execution_count": null,
   "id": "7908a86a",
   "metadata": {},
   "outputs": [],
   "source": []
  },
  {
   "cell_type": "code",
   "execution_count": null,
   "id": "6403aa78",
   "metadata": {},
   "outputs": [],
   "source": [
    "target = 'IsBadBuy'\n",
    "features = ['MMRCurrentRetailAveragePrice', 'VehOdo']"
   ]
  },
  {
   "cell_type": "markdown",
   "id": "98dc0945",
   "metadata": {},
   "source": [
    "## Missing values issue"
   ]
  },
  {
   "cell_type": "code",
   "execution_count": null,
   "id": "49264c88",
   "metadata": {},
   "outputs": [],
   "source": [
    "data[features + [target]].describe()"
   ]
  },
  {
   "cell_type": "markdown",
   "id": "43650b22",
   "metadata": {},
   "source": [
    "Ориентируясь на код предыдущего задания, разбейте датасет на обучающую и тестовую выборку и попрубуйте обучить решающее дерево предсказывать целевой признак"
   ]
  },
  {
   "cell_type": "code",
   "execution_count": null,
   "id": "1b7bbf40",
   "metadata": {},
   "outputs": [],
   "source": []
  },
  {
   "cell_type": "code",
   "execution_count": null,
   "id": "c0e9c322",
   "metadata": {},
   "outputs": [],
   "source": [
    "# code to split the sample"
   ]
  },
  {
   "cell_type": "code",
   "execution_count": null,
   "id": "5607de9c",
   "metadata": {},
   "outputs": [],
   "source": [
    "from sklearn.tree import DecisionTreeClassifier\n",
    "from sklearn.metrics import accuracy_score\n",
    "# code to train and evaluate the model"
   ]
  },
  {
   "cell_type": "markdown",
   "id": "0664afe9",
   "metadata": {},
   "source": [
    "Исправьте возникающую ошибку за счет удаления строк, в которых значения признаков или целевой переменной отсутствуют.\n",
    "Вам поможет следующий код  \n",
    "`data.dropna(your arguments)`\n"
   ]
  },
  {
   "cell_type": "code",
   "execution_count": null,
   "id": "785ac7a5",
   "metadata": {},
   "outputs": [],
   "source": [
    "# code to drop missing values"
   ]
  },
  {
   "cell_type": "markdown",
   "id": "b42148d1",
   "metadata": {},
   "source": [
    "## Overfitting"
   ]
  },
  {
   "cell_type": "markdown",
   "id": "434737a3",
   "metadata": {},
   "source": [
    "<img src=\"img/overfit_meme.jpg\" alt=\"overfitting\" width=\"500\" style=\"float: left;\"/>"
   ]
  },
  {
   "cell_type": "markdown",
   "id": "a311fcb9",
   "metadata": {},
   "source": [
    "Вновь попробуйте натренировать модель машинного обучения"
   ]
  },
  {
   "cell_type": "code",
   "execution_count": null,
   "id": "753648b7",
   "metadata": {},
   "outputs": [],
   "source": [
    "# code to split the sample and train and evaluate the model again"
   ]
  },
  {
   "cell_type": "markdown",
   "id": "1ab86a42",
   "metadata": {},
   "source": [
    "Получившееся качество предсказания кажется достаточно высоким. Но является ли полученный результат оптимальным? Проверим это, меняя гиперпараметр классификатора - максимальную глубину решающего дерева - и сравнивая качоство предсказания на обучающей и тестовой выборке для разных значений параметра"
   ]
  },
  {
   "cell_type": "code",
   "execution_count": null,
   "id": "891b36f1",
   "metadata": {},
   "outputs": [],
   "source": [
    "train_q = []\n",
    "test_q = []\n",
    "depths = [i for i in range(1, 31)]\n",
    "early_stop_achieved = False\n",
    "for d in depths:\n",
    "    DT = DecisionTreeClassifier(max_depth=d)\n",
    "    ...  # train the model\n",
    "    train_q.append(...)  # quality on the train sample\n",
    "    test_q.append(...)  # quality on the test sample\n",
    "    print(f'Depth {d}; train acc - {...}, test acc - {...}')\n",
    "\n",
    "    if len(test_q) > 1 and not early_stop_achieved:\n",
    "        if test_q[-1] < test_q[-2]:\n",
    "            print(f'Early stop has been achieved. The optimal depth is {d-1}')\n",
    "            early_stop_achieved = True"
   ]
  },
  {
   "cell_type": "markdown",
   "id": "8b3686fa",
   "metadata": {},
   "source": [
    "Корректно отрисуйте зависимсоть точности предсказания на обучающей и тестовой выборке от максимальной глубины решающего дерева, используя функцию [sns.lineplot](https://seaborn.pydata.org/generated/seaborn.lineplot.html)"
   ]
  },
  {
   "cell_type": "code",
   "execution_count": null,
   "id": "ab54cdc8",
   "metadata": {},
   "outputs": [],
   "source": [
    "x_arr = depths\n",
    "fig, ax = plt.subplots()\n",
    "sns.lineplot(...)\n",
    "sns.lineplot(...)\n",
    "ax.set_ylim(0.5, 1.2)\n",
    "ax.legend()"
   ]
  },
  {
   "cell_type": "markdown",
   "id": "5ba3918d",
   "metadata": {},
   "source": [
    "Тепловая карта предсказания решающего дерева с оптимальной глубиной"
   ]
  },
  {
   "cell_type": "code",
   "execution_count": null,
   "id": "b8f42ffc",
   "metadata": {},
   "outputs": [],
   "source": [
    "xname=features[0]; yname=features[1]\n",
    "model = DecisionTreeClassifier(max_depth=4)\n",
    "\n",
    "fig, ax = plt.subplots()\n",
    "model.fit(X_train, Y_train)\n",
    "print(f'accuracy_score on test: {accuracy_score(Y_test, model.predict(X_test))}')\n",
    "xlim = (data[xname].min(), data[xname].max())\n",
    "ylim = (data[yname].min(), data[yname].max())\n",
    "grid_x = np.linspace(*xlim, 100)\n",
    "grid_y = np.linspace(*ylim, 100)\n",
    "xx, yy = np.meshgrid(grid_x, grid_y)\n",
    "grid = np.c_[xx.ravel(), yy.ravel()]\n",
    "prediction = model.predict_proba(grid)[:, 1].reshape(xx.shape)\n",
    "ax.contourf(xx, yy, prediction, cmap=sns.color_palette(\"rocket\", as_cmap=True))\n",
    "\n",
    "ax = sns.scatterplot(data=X_test.join(Y_test), x=xname, y=yname, hue=target, palette=\"rocket\", ax=ax,\n",
    "                     marker='.', linewidth=0, s=5)\n",
    "ax.set_xlim(*xlim)\n",
    "ax.set_ylim(*ylim)"
   ]
  },
  {
   "cell_type": "markdown",
   "id": "5a8f168c",
   "metadata": {},
   "source": [
    "Тепловая карта предсказания переобученного решающего дерева"
   ]
  },
  {
   "cell_type": "code",
   "execution_count": null,
   "id": "a9161297",
   "metadata": {},
   "outputs": [],
   "source": [
    "model = DecisionTreeClassifier(max_depth=depths[-1])\n",
    "\n",
    "fig, ax = plt.subplots()\n",
    "model.fit(X_train, Y_train)\n",
    "print(f'accuracy_score on test: {accuracy_score(Y_test, model.predict(X_test))}')\n",
    "prediction = model.predict_proba(grid)[:, 1].reshape(xx.shape)\n",
    "ax.contourf(xx, yy, prediction, cmap=sns.color_palette(\"rocket\", as_cmap=True))\n",
    "\n",
    "ax = sns.scatterplot(data=X_test.join(Y_test), x=xname, y=yname, hue=target, palette=\"rocket\", ax=ax,\n",
    "                    marker='.', linewidth=0, s=5)\n",
    "ax.set_xlim(*xlim)\n",
    "ax.set_ylim(*ylim)"
   ]
  },
  {
   "cell_type": "markdown",
   "id": "35241709",
   "metadata": {},
   "source": [
    "# Feature selection"
   ]
  },
  {
   "cell_type": "markdown",
   "id": "c6e1fa9b",
   "metadata": {},
   "source": [
    "<img src=\"img/fs_meme.jpeg\" alt=\"feature selection\" style=\"float: left;\"/>"
   ]
  },
  {
   "cell_type": "markdown",
   "id": "6e7adc8f",
   "metadata": {},
   "source": [
    "Прочтите и отобразите данные из файла \"data/diffusion.csv\""
   ]
  },
  {
   "cell_type": "code",
   "execution_count": null,
   "id": "745788b6",
   "metadata": {
    "scrolled": true
   },
   "outputs": [],
   "source": []
  },
  {
   "cell_type": "markdown",
   "id": "f6b346c8",
   "metadata": {},
   "source": [
    "Целевая переменная - \"E_regression\""
   ]
  },
  {
   "cell_type": "code",
   "execution_count": null,
   "id": "3f4ed65a",
   "metadata": {},
   "outputs": [],
   "source": [
    "target = 'E_regression'\n",
    "sns.histplot(data[target])"
   ]
  },
  {
   "cell_type": "code",
   "execution_count": null,
   "id": "8f84798f",
   "metadata": {},
   "outputs": [],
   "source": [
    "from pandas.api.types import is_numeric_dtype\n",
    "features = [col for col in data.columns if is_numeric_dtype(data[col])]"
   ]
  },
  {
   "cell_type": "markdown",
   "id": "bc19d1ee",
   "metadata": {},
   "source": [
    "Пробуем предсказать целевое свойство методом ближайших соседей"
   ]
  },
  {
   "cell_type": "code",
   "execution_count": null,
   "id": "419b9b56",
   "metadata": {},
   "outputs": [],
   "source": [
    "from sklearn.neighbors import KNeighborsRegressor"
   ]
  },
  {
   "cell_type": "code",
   "execution_count": null,
   "id": "f689aa24",
   "metadata": {},
   "outputs": [],
   "source": []
  },
  {
   "cell_type": "markdown",
   "id": "54ea26e4",
   "metadata": {},
   "source": [
    "Одним из распространенных способов увеличения качества предсказания моделей является уменьшение размерности данных. В частности - предсказание по нескольким наиболее важным признакам. Существует множество способов определения важности признаков, мы воспользуемся самыми быстрыми и простыми из них.  \n",
    "Отберите 5 наиболее важных признаков с помощью метода `f_regression`. Для отбора признаков полезной будет функция `numpy.argsort`, позволяющая произвести сортировку по ключу"
   ]
  },
  {
   "cell_type": "code",
   "execution_count": null,
   "id": "1ccffeac",
   "metadata": {
    "scrolled": true
   },
   "outputs": [],
   "source": [
    "from sklearn.feature_selection import f_regression\n",
    "...  # get f_score from X, Y\n",
    "num_best = 5\n",
    "best_features_f = np.array(features)[][]  # select best features with key sort"
   ]
  },
  {
   "cell_type": "markdown",
   "id": "2666bd70",
   "metadata": {},
   "source": [
    "Обновите обучающую и тестовую выборки, вновь натренируйте и оцените модель"
   ]
  },
  {
   "cell_type": "code",
   "execution_count": null,
   "id": "081bb113",
   "metadata": {
    "scrolled": true
   },
   "outputs": [],
   "source": [
    "X, Y = data[best_features_f], data[target]\n",
    "X_train, X_test, Y_train, Y_test = train_test_split(X, Y, test_size=0.2)\n",
    "model.fit(X_train, Y_train)\n",
    "r2_score(model.predict(X_test), Y_test)"
   ]
  },
  {
   "cell_type": "markdown",
   "id": "abbfe0f7",
   "metadata": {},
   "source": [
    "Отберите признаки с помощью mutual_info_regression "
   ]
  },
  {
   "cell_type": "code",
   "execution_count": null,
   "id": "ed25549f",
   "metadata": {},
   "outputs": [],
   "source": [
    "from sklearn.feature_selection import mutual_info_regression\n",
    "mi = mutual_info_regression(X, Y)[0]\n",
    "num_best = 5\n",
    "best_features_mi = np.array(features)[np.argsort(fscore)][-num_best:]\n",
    "best_features_mi"
   ]
  },
  {
   "cell_type": "code",
   "execution_count": null,
   "id": "6cfd1218",
   "metadata": {},
   "outputs": [],
   "source": [
    "x='Hop activation barrier'\n",
    "ax = sns.scatterplot(data=data, x=x, y=\"Site2_AtomicNumber\", hue=target)"
   ]
  },
  {
   "cell_type": "code",
   "execution_count": null,
   "id": "42f140b0",
   "metadata": {},
   "outputs": [],
   "source": [
    "ax = sns.boxplot(x=\"Site1_valence\", y=target, data=data)\n",
    "sns.stripplot(x=\"Site1_valence\", y=target, data=data, color=\".3\", ax=ax)"
   ]
  },
  {
   "cell_type": "markdown",
   "id": "c5974e55",
   "metadata": {},
   "source": [
    "Еще раз обновите обучающую и тестовую выборки, натренируйте и оцените модель"
   ]
  },
  {
   "cell_type": "code",
   "execution_count": null,
   "id": "8a68738d",
   "metadata": {},
   "outputs": [],
   "source": []
  },
  {
   "cell_type": "markdown",
   "id": "e22b3051",
   "metadata": {},
   "source": [
    "# Outliers"
   ]
  },
  {
   "cell_type": "markdown",
   "id": "d235c4a8",
   "metadata": {},
   "source": [
    "<img src=\"img/outliers_meme.png\" alt=\"outliers\" style=\"float: left;\"/>"
   ]
  },
  {
   "cell_type": "markdown",
   "id": "6b2635b5",
   "metadata": {},
   "source": [
    "Прочтите и отобразите данные из файла \"data/mobile_price.csv\""
   ]
  },
  {
   "cell_type": "code",
   "execution_count": null,
   "id": "13f677ed",
   "metadata": {
    "scrolled": true
   },
   "outputs": [],
   "source": []
  },
  {
   "cell_type": "code",
   "execution_count": null,
   "id": "9b6eb7e2",
   "metadata": {},
   "outputs": [],
   "source": [
    "target = 'Price'\n",
    "features = [col for col in data.columns if col != target and is_numeric_dtype(data[col])]"
   ]
  },
  {
   "cell_type": "code",
   "execution_count": null,
   "id": "5c3e6c70",
   "metadata": {},
   "outputs": [],
   "source": [
    "X, Y = data[features], data[target]"
   ]
  },
  {
   "cell_type": "markdown",
   "id": "b028fa71",
   "metadata": {},
   "source": [
    "Натренируйте и оцените ансамблевую модель `ExtraTreesRegressor`.\\\n",
    "На этот раз не используйте стандартную полседовательность `train_test_split` - `fit` - `predict`. Вместо этого воспользуйтесь одной единственной функцией `cross_val_predict`. Сохораните результат работы функции в переменную `Y_pred`."
   ]
  },
  {
   "cell_type": "code",
   "execution_count": null,
   "id": "a002425b",
   "metadata": {
    "scrolled": true
   },
   "outputs": [],
   "source": []
  },
  {
   "cell_type": "markdown",
   "id": "06813596",
   "metadata": {},
   "source": [
    "Диаграмма рассеняния true-predicted"
   ]
  },
  {
   "cell_type": "code",
   "execution_count": null,
   "id": "46f6fd30",
   "metadata": {
    "scrolled": true
   },
   "outputs": [],
   "source": [
    "low, high = np.min(np.minimum(Y, Y_pred)), np.max(np.maximum(Y, Y_pred))\n",
    "ax = sns.scatterplot(x=Y, y=Y_pred)\n",
    "sns.lineplot(x=[low, high], y=[low, high], ax=ax)\n",
    "ax.set_ylabel(f'Predicted {target}')"
   ]
  },
  {
   "cell_type": "markdown",
   "id": "1b575610",
   "metadata": {},
   "source": [
    "Равномерно ли распределена величина ошибки среди точек выборки?"
   ]
  },
  {
   "cell_type": "code",
   "execution_count": null,
   "id": "0c2f486d",
   "metadata": {},
   "outputs": [],
   "source": [
    "abs_error = np.abs(Y - Y_pred)\n",
    "argsort = np.argsort(abs_error)[::-1]\n",
    "sns.lineplot(x=np.arange(Y.shape[0]) + 1, y=abs_error[abs_error.index[argsort]], color='violet')"
   ]
  },
  {
   "cell_type": "markdown",
   "id": "1a92d096",
   "metadata": {},
   "source": [
    "Отберите все точки датасета кроме 60 с наибольшей ошибкой. Используйте метод датафрейма `.loc`. Вновь сделайте предсказание методом `cross_val_predict`"
   ]
  },
  {
   "cell_type": "code",
   "execution_count": null,
   "id": "82acc7e7",
   "metadata": {},
   "outputs": [],
   "source": [
    "less_error_idx = abs_error.index[argsort][60:]\n",
    "..."
   ]
  },
  {
   "cell_type": "code",
   "execution_count": null,
   "id": "22ea76f1",
   "metadata": {},
   "outputs": [],
   "source": [
    "low, high = np.min(np.minimum(Y, Y_pred)), np.max(np.maximum(Y, Y_pred))\n",
    "ax = sns.scatterplot(x=Y, y=Y_pred)\n",
    "sns.lineplot(x=[low, high], y=[low, high], ax=ax)\n",
    "ax.set_ylabel(f'Predicted {target}')"
   ]
  },
  {
   "cell_type": "markdown",
   "id": "bbea141f",
   "metadata": {},
   "source": [
    "# Feature engineering"
   ]
  },
  {
   "cell_type": "markdown",
   "id": "c199946d",
   "metadata": {},
   "source": [
    "Прочтите данные о пассажирах Титаника. Посмотрите на данные. Какой тип данных содержится в каждой колонке? Какие колонки можно сразу использовать в качетсве признаков, а какие не будут приняты моделями в качестве входа?"
   ]
  },
  {
   "cell_type": "code",
   "execution_count": null,
   "id": "99496991",
   "metadata": {},
   "outputs": [],
   "source": []
  },
  {
   "cell_type": "code",
   "execution_count": null,
   "id": "a10eb449",
   "metadata": {},
   "outputs": [],
   "source": [
    "target = 'Survived'\n",
    "features = ['Pclass', 'Name', 'Age', 'Cabin', 'Embarked']"
   ]
  },
  {
   "cell_type": "markdown",
   "id": "e8d6758e",
   "metadata": {},
   "source": [
    "Используя методы `.describe` и `.nunique` выведите статистическую информацию по колонкам датасета. О каких дополнительных сложностях предупреждает полученная информация?"
   ]
  },
  {
   "cell_type": "code",
   "execution_count": null,
   "id": "fec983e9",
   "metadata": {},
   "outputs": [],
   "source": []
  },
  {
   "cell_type": "code",
   "execution_count": null,
   "id": "a43a0cc4",
   "metadata": {},
   "outputs": [],
   "source": []
  },
  {
   "cell_type": "markdown",
   "id": "b4ff8a30",
   "metadata": {},
   "source": [
    "Выведите уникальные значения призака 'Cabin'"
   ]
  },
  {
   "cell_type": "code",
   "execution_count": null,
   "id": "3a0eea4c",
   "metadata": {},
   "outputs": [],
   "source": []
  },
  {
   "cell_type": "markdown",
   "id": "167d3674",
   "metadata": {},
   "source": [
    "## Process Age "
   ]
  },
  {
   "cell_type": "markdown",
   "id": "71a55d11",
   "metadata": {},
   "source": [
    "С помощью метода `.fillna` заполните пропущенные значения признака \"Age\" любым значением меньше 0"
   ]
  },
  {
   "cell_type": "code",
   "execution_count": null,
   "id": "5c062b0a",
   "metadata": {},
   "outputs": [],
   "source": [
    "# your line here\n",
    "data['Age'] = data['Age'].map(lambda x: x // 10 * 10).astype('int')"
   ]
  },
  {
   "cell_type": "markdown",
   "id": "3e88fcb9",
   "metadata": {},
   "source": [
    "## Process Cabin"
   ]
  },
  {
   "cell_type": "markdown",
   "id": "1b3afb84",
   "metadata": {},
   "source": [
    "С помощью метода `.fillna` заполните пропущенные значения признака \"Cabin\""
   ]
  },
  {
   "cell_type": "code",
   "execution_count": null,
   "id": "4643f9fe",
   "metadata": {},
   "outputs": [],
   "source": [
    "# your line here\n",
    "data['CabinFirstLetter'] = data.Cabin.map(lambda s: s[0])\n",
    "data['CabinNumber'] = data.Cabin.map(lambda s: ''.join(filter(lambda c: c in '0123456789 ', s)))\n",
    "data['CabinNumber'] = data.CabinNumber.map(lambda s: s if s else '0').map(lambda s: [w for w in s.split() if w][0]).astype('int')\n",
    "features.remove('Cabin')\n",
    "features.extend(('CabinNumber', ))"
   ]
  },
  {
   "cell_type": "code",
   "execution_count": null,
   "id": "4505d8d8",
   "metadata": {},
   "outputs": [],
   "source": [
    "sns.catplot(x=\"CabinFirstLetter\", y=target, data=data, kind='bar')"
   ]
  },
  {
   "cell_type": "code",
   "execution_count": null,
   "id": "c39dfc3e",
   "metadata": {},
   "outputs": [],
   "source": [
    "ax = sns.boxplot(x=target, y=\"CabinNumber\", data=data)\n",
    "sns.stripplot(x=target, y=\"CabinNumber\", data=data, color=\".3\", ax=ax)"
   ]
  },
  {
   "cell_type": "markdown",
   "id": "48570ed5",
   "metadata": {},
   "source": [
    "Какие выводы можно сделать по полученным графикам? Имеется ли зависимость между полученными нами признаками и целевой переменной?"
   ]
  },
  {
   "cell_type": "markdown",
   "id": "39d39f54",
   "metadata": {},
   "source": [
    "## Process Name"
   ]
  },
  {
   "cell_type": "markdown",
   "id": "58c6a710",
   "metadata": {},
   "source": [
    "Правильным образом вызовите метод `fit_transform` у объекта `vectorizer` чтобы перевести в числовой формат имена пассажиров \"Титаника\". После вызова примените метод `.toarray` чтобы получить новую матрицу признаков из текста в правильном формате. Присвойте эту матрицу в переменную `NameFeatures`."
   ]
  },
  {
   "cell_type": "code",
   "execution_count": null,
   "id": "5727fdd8",
   "metadata": {},
   "outputs": [],
   "source": [
    "from sklearn.feature_extraction.text import CountVectorizer\n",
    "vectorizer = CountVectorizer(min_df=12, binary=True)\n",
    "...  # your line here\n",
    "vectorizer.get_feature_names_out()"
   ]
  },
  {
   "cell_type": "markdown",
   "id": "82e2324c",
   "metadata": {},
   "source": [
    "Используя метод датафрейма `.join` присоедините матрицу признаков `NameFeatures` к имеющимся данным `data`"
   ]
  },
  {
   "cell_type": "code",
   "execution_count": null,
   "id": "02a914cc",
   "metadata": {},
   "outputs": [],
   "source": [
    "NameFeatures = pd.DataFrame(data=NameFeatures, columns=vectorizer.get_feature_names_out())\n",
    "NameFeatures.columns = NameFeatures.columns.map(lambda s: f'Name_{s}')\n",
    "...  # your line here\n",
    "features.remove('Name')\n",
    "features.extend(NameFeatures.columns)"
   ]
  },
  {
   "cell_type": "markdown",
   "id": "a21e6dad",
   "metadata": {},
   "source": [
    "## One-hot encoding"
   ]
  },
  {
   "cell_type": "code",
   "execution_count": null,
   "id": "8ffb33ca",
   "metadata": {},
   "outputs": [],
   "source": [
    "cols_to_one_hot = ('Pclass', 'Embarked', 'Age', 'CabinFirstLetter')\n",
    "for col in ('Pclass', 'Embarked', 'Age'):\n",
    "    features.remove(col)"
   ]
  },
  {
   "cell_type": "markdown",
   "id": "874cde77",
   "metadata": {},
   "source": [
    "Расскоментирйте код внизу и расставьте строки в правильном порядке с тем чтобы успешно применить one-hot encoding к категориальным признакам из списка"
   ]
  },
  {
   "cell_type": "code",
   "execution_count": null,
   "id": "9a744fb4",
   "metadata": {},
   "outputs": [],
   "source": [
    "# data = data.join(oh_data)\n",
    "# for col in cols_to_one_hot:\n",
    "# features.extend(oh_cols_train)\n",
    "# oh_data = pd.DataFrame(index=data.index)\n",
    "# oh_cols_train = oh_data.columns.to_list()\n",
    "# data.head()\n",
    "#     oh_data = oh_data.join(pd.get_dummies(data[col], prefix=col).astype('float'))"
   ]
  },
  {
   "cell_type": "markdown",
   "id": "76ad2192",
   "metadata": {},
   "source": [
    "## Modeling"
   ]
  },
  {
   "cell_type": "markdown",
   "id": "55cfe37c",
   "metadata": {},
   "source": [
    "Натренируйте модель `LogisticRegressionCV` на полученных признаках"
   ]
  },
  {
   "cell_type": "code",
   "execution_count": null,
   "id": "95a30924",
   "metadata": {},
   "outputs": [],
   "source": []
  },
  {
   "cell_type": "markdown",
   "id": "2c1a61f6",
   "metadata": {},
   "source": [
    "# Design of experiment. Grid, LHS and adaptive sampling"
   ]
  },
  {
   "cell_type": "markdown",
   "id": "a9aa414e",
   "metadata": {},
   "source": [
    "<img src=\"img/exp_meme.jpg\" alt=\"experiment\" style=\"float: left;\"/>"
   ]
  },
  {
   "cell_type": "code",
   "execution_count": null,
   "id": "1fea99b6",
   "metadata": {},
   "outputs": [],
   "source": [
    "!/opt/anaconda_py39_1/bin/pip install pyDOE2\n",
    "!/opt/anaconda_py39_1/bin/pip install --upgrade minlpe"
   ]
  },
  {
   "cell_type": "code",
   "execution_count": null,
   "id": "fe7245fa",
   "metadata": {},
   "outputs": [],
   "source": [
    "ndim = 3\n",
    "dimlims = (-5., 5.)"
   ]
  },
  {
   "cell_type": "code",
   "execution_count": null,
   "id": "05fe5827",
   "metadata": {},
   "outputs": [],
   "source": [
    "def func(x1, x2, x3):\n",
    "    return 0.2 * x1 ** 3 - 0.5 * x2 ** 2"
   ]
  },
  {
   "cell_type": "code",
   "execution_count": null,
   "id": "14380f20",
   "metadata": {},
   "outputs": [],
   "source": [
    "fig, ax = plt.subplots()\n",
    "grid_x = np.linspace(*dimlims, 100)\n",
    "grid_y = np.linspace(*dimlims, 100)\n",
    "xx, yy = np.meshgrid(grid_x, grid_y)\n",
    "points = np.hstack((xx.ravel().reshape(-1, 1), yy.ravel().reshape(-1, 1)))\n",
    "ax.contourf(xx, yy, func(points[:, 0], points[:, 1], 0).reshape(xx.shape),\n",
    "           cmap='viridis')"
   ]
  },
  {
   "cell_type": "code",
   "execution_count": null,
   "id": "a1f9b11f",
   "metadata": {},
   "outputs": [],
   "source": [
    "points_per_dim = 3"
   ]
  },
  {
   "cell_type": "code",
   "execution_count": null,
   "id": "6160f756",
   "metadata": {},
   "outputs": [],
   "source": [
    "def get_grid(points_per_dim):\n",
    "    grid = np.hstack(\n",
    "        [xx.reshape(-1, 1) for xx in np.meshgrid(*[np.linspace(-5., 5., points_per_dim) for _ in range(ndim)])]\n",
    "    )\n",
    "    return grid"
   ]
  },
  {
   "cell_type": "code",
   "execution_count": null,
   "id": "448270ca",
   "metadata": {},
   "outputs": [],
   "source": [
    "grid = ..."
   ]
  },
  {
   "cell_type": "code",
   "execution_count": null,
   "id": "31140116",
   "metadata": {},
   "outputs": [],
   "source": [
    "test_size = 200\n",
    "test_points = 10. * np.random.random(size=(test_size, ndim)) - 5.\n",
    "test_fvales = func(...)  # evaluate function at test points"
   ]
  },
  {
   "cell_type": "markdown",
   "id": "21f347d6",
   "metadata": {},
   "source": [
    "Натренируйте ансамблевую модель `ExtraTreesRegressor` на простой сетке точек. Оцените качество на тестовой выборке"
   ]
  },
  {
   "cell_type": "code",
   "execution_count": null,
   "id": "4270aca8",
   "metadata": {},
   "outputs": [],
   "source": []
  },
  {
   "cell_type": "code",
   "execution_count": null,
   "id": "d1111ce4",
   "metadata": {},
   "outputs": [],
   "source": [
    "from pyDOE2 import lhs\n",
    "lhs_points = 10. * lhs(ndim, samples=points_per_dim ** ndim) - 5.\n",
    "lhs_fvalues = func(...)   # evaluate function at lhs points"
   ]
  },
  {
   "cell_type": "markdown",
   "id": "184f2637",
   "metadata": {},
   "source": [
    "Натренируйте ту же модель на наборе точек LHS. Оцените качество на тестовой выборке"
   ]
  },
  {
   "cell_type": "code",
   "execution_count": null,
   "id": "4565df29",
   "metadata": {},
   "outputs": [],
   "source": []
  },
  {
   "cell_type": "code",
   "execution_count": null,
   "id": "b8408771",
   "metadata": {},
   "outputs": [],
   "source": [
    "from minlpe import minlpe\n",
    "adaptive_points, adaptive_fvalues, _ = minlpe(lambda x: func(x[0], x[1], x[2]), [[-5., 5.]] * ndim, maxSampleSize=points_per_dim ** ndim,\n",
    "                                              folder='adaptive')"
   ]
  },
  {
   "cell_type": "markdown",
   "id": "6b86b2f2",
   "metadata": {},
   "source": [
    "Натренируйте модель еще раз на наборе точек полученнных с помощью адаптивного сэмплинга и оцените качество на тестовой выборке"
   ]
  },
  {
   "cell_type": "code",
   "execution_count": null,
   "id": "909397c6",
   "metadata": {},
   "outputs": [],
   "source": []
  },
  {
   "cell_type": "markdown",
   "id": "12648b51",
   "metadata": {},
   "source": [
    "Пример генерации точек адаптивным сэплингом в режиме online."
   ]
  },
  {
   "cell_type": "code",
   "execution_count": null,
   "id": "c76216f5",
   "metadata": {},
   "outputs": [],
   "source": [
    "from minlpe import nextPoint\n",
    "samplerParams = dict(seed=0, samplerTimeConstraint=None, debug=False)\n",
    "X = [[-5.0, -5.0, 0.], [5.0, 5.0, 0.]]\n",
    "Y = [func(*x) for x in X]\n",
    "newX1 = nextPoint(X, Y, bounds=[[-5, 5], [-5, 5], [-5, 5]], **samplerParams)\n",
    "newX1  # новые параметры \"эксперимента\""
   ]
  },
  {
   "cell_type": "code",
   "execution_count": null,
   "id": "c73d0d8e",
   "metadata": {},
   "outputs": [],
   "source": [
    "X.append(newX1)  \n",
    "Y.append(func(*newX1))  # новое \"экспериментальное\" значение для параметров предлложенных алгоритмом\n",
    "newX2 = nextPoint(X, Y, bounds=[[-5, 5], [-5, 5], [-5, 5]], **samplerParams)\n",
    "newX2"
   ]
  },
  {
   "cell_type": "markdown",
   "id": "02cef1d9",
   "metadata": {},
   "source": [
    "# It is your turn now!"
   ]
  },
  {
   "cell_type": "code",
   "execution_count": null,
   "id": "5b72cdbb",
   "metadata": {},
   "outputs": [],
   "source": [
    "data =  # read the file \"data.competition.csv\"\n",
    "target = 'octamer'\n",
    "SEED = 123"
   ]
  },
  {
   "cell_type": "code",
   "execution_count": null,
   "id": "215390ad",
   "metadata": {},
   "outputs": [],
   "source": [
    "..."
   ]
  },
  {
   "cell_type": "code",
   "execution_count": null,
   "id": "67f8987a",
   "metadata": {},
   "outputs": [],
   "source": [
    "cross_val_predict(model, X, Y, ranodm_state=SEED)"
   ]
  },
  {
   "cell_type": "code",
   "execution_count": null,
   "id": "9c66e2af",
   "metadata": {},
   "outputs": [],
   "source": []
  }
 ],
 "metadata": {
  "kernelspec": {
   "display_name": "Python 3 (ipykernel)",
   "language": "python",
   "name": "python3"
  },
  "language_info": {
   "codemirror_mode": {
    "name": "ipython",
    "version": 3
   },
   "file_extension": ".py",
   "mimetype": "text/x-python",
   "name": "python",
   "nbconvert_exporter": "python",
   "pygments_lexer": "ipython3",
   "version": "3.11.4"
  }
 },
 "nbformat": 4,
 "nbformat_minor": 5
}
