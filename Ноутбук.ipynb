{
 "cells": [
  {
   "cell_type": "markdown",
   "id": "195de12d",
   "metadata": {},
   "source": [
    "# Введение в программирование на Python"
   ]
  },
  {
   "cell_type": "markdown",
   "id": "810d83ec",
   "metadata": {},
   "source": [
    "## Библиотеки"
   ]
  },
  {
   "cell_type": "code",
   "execution_count": 162,
   "id": "05bd377d",
   "metadata": {},
   "outputs": [],
   "source": [
    "import functools\n",
    "import itertools\n",
    "from math import sqrt"
   ]
  },
  {
   "cell_type": "markdown",
   "id": "b47e732e",
   "metadata": {},
   "source": [
    "https://docs.python.org/3/library/itertools.html - пример документации."
   ]
  },
  {
   "cell_type": "markdown",
   "id": "719a71e0",
   "metadata": {},
   "source": [
    "## Примитивные функции"
   ]
  },
  {
   "cell_type": "code",
   "execution_count": 181,
   "id": "7d232187",
   "metadata": {},
   "outputs": [],
   "source": [
    "# присваивание значения переменным\n",
    "a = 3   # int\n",
    "b = 5\n",
    "c = 10\n",
    "d = True  # bool\n",
    "e = 1/2   # float"
   ]
  },
  {
   "cell_type": "code",
   "execution_count": 182,
   "id": "7319602a",
   "metadata": {},
   "outputs": [],
   "source": [
    "# Динамическая типизация питона\n",
    "c = \"abc\""
   ]
  },
  {
   "cell_type": "code",
   "execution_count": 166,
   "id": "9ac9ea4c",
   "metadata": {},
   "outputs": [
    {
     "data": {
      "text/plain": [
       "8"
      ]
     },
     "execution_count": 166,
     "metadata": {},
     "output_type": "execute_result"
    }
   ],
   "source": [
    "# Примечание: Jupyter умеет выводить результат операции (если он никуда не сохраняется)\n",
    "# без явного указания оператора вывода print. В обычных IDE такого нет.\n",
    "a + b"
   ]
  },
  {
   "cell_type": "code",
   "execution_count": 9,
   "id": "5165b14d",
   "metadata": {},
   "outputs": [
    {
     "data": {
      "text/plain": [
       "-2"
      ]
     },
     "execution_count": 9,
     "metadata": {},
     "output_type": "execute_result"
    }
   ],
   "source": [
    "a - b"
   ]
  },
  {
   "cell_type": "code",
   "execution_count": 10,
   "id": "8b67928a",
   "metadata": {},
   "outputs": [
    {
     "data": {
      "text/plain": [
       "15"
      ]
     },
     "execution_count": 10,
     "metadata": {},
     "output_type": "execute_result"
    }
   ],
   "source": [
    "a * b"
   ]
  },
  {
   "cell_type": "code",
   "execution_count": 168,
   "id": "2ad33c47",
   "metadata": {},
   "outputs": [
    {
     "data": {
      "text/plain": [
       "0.6"
      ]
     },
     "execution_count": 168,
     "metadata": {},
     "output_type": "execute_result"
    }
   ],
   "source": [
    "a / b"
   ]
  },
  {
   "cell_type": "markdown",
   "id": "3ee3b724",
   "metadata": {},
   "source": [
    "Любое целое целое число m можно предстваить в следующем виде:\n",
    "$$m = n * a + k, где\\ m,n \\in Z,\\ a,k \\in N \\cup \\{0\\}$$\n",
    "При делении m на a, n является результатом целочисленного деления, а k - остатком от деления."
   ]
  },
  {
   "cell_type": "code",
   "execution_count": 17,
   "id": "2e7ddd45",
   "metadata": {},
   "outputs": [
    {
     "data": {
      "text/plain": [
       "1"
      ]
     },
     "execution_count": 17,
     "metadata": {},
     "output_type": "execute_result"
    }
   ],
   "source": [
    "b // a     # 5 = 1 * 3 + 2"
   ]
  },
  {
   "cell_type": "code",
   "execution_count": 18,
   "id": "57c83c1e",
   "metadata": {},
   "outputs": [
    {
     "data": {
      "text/plain": [
       "2"
      ]
     },
     "execution_count": 18,
     "metadata": {},
     "output_type": "execute_result"
    }
   ],
   "source": [
    "b % a"
   ]
  },
  {
   "cell_type": "code",
   "execution_count": 173,
   "id": "7f9299b7",
   "metadata": {},
   "outputs": [
    {
     "data": {
      "text/plain": [
       "-3"
      ]
     },
     "execution_count": 173,
     "metadata": {},
     "output_type": "execute_result"
    }
   ],
   "source": [
    "# Аналогично с делением отрицательного числа\n",
    "-5 // 2"
   ]
  },
  {
   "cell_type": "code",
   "execution_count": 174,
   "id": "7862e15a",
   "metadata": {},
   "outputs": [
    {
     "data": {
      "text/plain": [
       "1"
      ]
     },
     "execution_count": 174,
     "metadata": {},
     "output_type": "execute_result"
    }
   ],
   "source": [
    "-5 % 2"
   ]
  },
  {
   "cell_type": "markdown",
   "id": "47b6f40c",
   "metadata": {},
   "source": [
    "## Степени"
   ]
  },
  {
   "cell_type": "code",
   "execution_count": 21,
   "id": "431a913a",
   "metadata": {},
   "outputs": [
    {
     "data": {
      "text/plain": [
       "125"
      ]
     },
     "execution_count": 21,
     "metadata": {},
     "output_type": "execute_result"
    }
   ],
   "source": [
    "# Возведение b в степень a\n",
    "b ** a"
   ]
  },
  {
   "cell_type": "code",
   "execution_count": 24,
   "id": "3934174b",
   "metadata": {},
   "outputs": [
    {
     "data": {
      "text/plain": [
       "2.23606797749979"
      ]
     },
     "execution_count": 24,
     "metadata": {},
     "output_type": "execute_result"
    }
   ],
   "source": [
    "# Можно дробную степень. Степень 1/2 - это квадратный корень.\n",
    "b ** e"
   ]
  },
  {
   "cell_type": "code",
   "execution_count": 29,
   "id": "a133418d",
   "metadata": {},
   "outputs": [
    {
     "data": {
      "text/plain": [
       "2.23606797749979"
      ]
     },
     "execution_count": 29,
     "metadata": {},
     "output_type": "execute_result"
    }
   ],
   "source": [
    "# Можно воспользваться функцие из библиотеки math\n",
    "sqrt(b)"
   ]
  },
  {
   "cell_type": "code",
   "execution_count": 31,
   "id": "63c0cdbc",
   "metadata": {},
   "outputs": [
    {
     "data": {
      "text/plain": [
       "4.999999999999999"
      ]
     },
     "execution_count": 31,
     "metadata": {},
     "output_type": "execute_result"
    }
   ],
   "source": [
    "# Проблемка\n",
    "125 ** (1/3)"
   ]
  },
  {
   "cell_type": "code",
   "execution_count": 34,
   "id": "706519c5",
   "metadata": {},
   "outputs": [
    {
     "data": {
      "text/plain": [
       "5"
      ]
     },
     "execution_count": 34,
     "metadata": {},
     "output_type": "execute_result"
    }
   ],
   "source": [
    "# Округляем\n",
    "round(125 ** (1/3))"
   ]
  },
  {
   "cell_type": "code",
   "execution_count": 176,
   "id": "9ca6260e",
   "metadata": {},
   "outputs": [
    {
     "data": {
      "text/plain": [
       "5.0"
      ]
     },
     "execution_count": 176,
     "metadata": {},
     "output_type": "execute_result"
    }
   ],
   "source": [
    "round(125 ** (1/3), 3)"
   ]
  },
  {
   "cell_type": "code",
   "execution_count": 35,
   "id": "f8e7bda1",
   "metadata": {},
   "outputs": [
    {
     "data": {
      "text/plain": [
       "4"
      ]
     },
     "execution_count": 35,
     "metadata": {},
     "output_type": "execute_result"
    }
   ],
   "source": [
    "# Можно округлять при помощи int, НО округление происходит в СТОРОНУ НУЛЯ\n",
    "int(125 ** (1/3))"
   ]
  },
  {
   "cell_type": "code",
   "execution_count": 36,
   "id": "b15b50dc",
   "metadata": {},
   "outputs": [
    {
     "data": {
      "text/plain": [
       "-2"
      ]
     },
     "execution_count": 36,
     "metadata": {},
     "output_type": "execute_result"
    }
   ],
   "source": [
    "int(-2.842)"
   ]
  },
  {
   "cell_type": "markdown",
   "id": "65aae204",
   "metadata": {},
   "source": [
    "## Строковые типы данных "
   ]
  },
  {
   "cell_type": "code",
   "execution_count": 183,
   "id": "00751485",
   "metadata": {},
   "outputs": [],
   "source": [
    "f = \"def\""
   ]
  },
  {
   "cell_type": "code",
   "execution_count": 184,
   "id": "1946d76e",
   "metadata": {},
   "outputs": [
    {
     "data": {
      "text/plain": [
       "'abcdef'"
      ]
     },
     "execution_count": 184,
     "metadata": {},
     "output_type": "execute_result"
    }
   ],
   "source": [
    "# Конкатенация\n",
    "c + f"
   ]
  },
  {
   "cell_type": "code",
   "execution_count": 185,
   "id": "ce0a51e9",
   "metadata": {},
   "outputs": [
    {
     "data": {
      "text/plain": [
       "'abcabcabc'"
      ]
     },
     "execution_count": 185,
     "metadata": {},
     "output_type": "execute_result"
    }
   ],
   "source": [
    "# Повторение строки\n",
    "c * 3"
   ]
  },
  {
   "cell_type": "code",
   "execution_count": 186,
   "id": "1060a7fd",
   "metadata": {},
   "outputs": [
    {
     "data": {
      "text/plain": [
       "'c=abc; f=def'"
      ]
     },
     "execution_count": 186,
     "metadata": {},
     "output_type": "execute_result"
    }
   ],
   "source": [
    "# Форматирование\n",
    "\"c={}; f={}\".format(c, f)"
   ]
  },
  {
   "cell_type": "code",
   "execution_count": 187,
   "id": "172ae081",
   "metadata": {},
   "outputs": [
    {
     "data": {
      "text/plain": [
       "'c=abc; f=def'"
      ]
     },
     "execution_count": 187,
     "metadata": {},
     "output_type": "execute_result"
    }
   ],
   "source": [
    "f\"c={c}; f={f}\""
   ]
  },
  {
   "cell_type": "code",
   "execution_count": 189,
   "id": "9da35815",
   "metadata": {},
   "outputs": [
    {
     "data": {
      "text/plain": [
       "'c=abc; f=def'"
      ]
     },
     "execution_count": 189,
     "metadata": {},
     "output_type": "execute_result"
    }
   ],
   "source": [
    "\"c=%s; f=%s\" % (c, f)"
   ]
  },
  {
   "cell_type": "code",
   "execution_count": 190,
   "id": "7741c4ee",
   "metadata": {},
   "outputs": [],
   "source": [
    "g = c + f"
   ]
  },
  {
   "cell_type": "markdown",
   "id": "39f8f058",
   "metadata": {},
   "source": [
    "## Модификаторы и срезы"
   ]
  },
  {
   "cell_type": "code",
   "execution_count": 191,
   "id": "0a53d33c",
   "metadata": {},
   "outputs": [
    {
     "data": {
      "text/plain": [
       "'a'"
      ]
     },
     "execution_count": 191,
     "metadata": {},
     "output_type": "execute_result"
    }
   ],
   "source": [
    "# Модификация\n",
    "g[0]"
   ]
  },
  {
   "cell_type": "code",
   "execution_count": 192,
   "id": "631f43d1",
   "metadata": {},
   "outputs": [
    {
     "data": {
      "text/plain": [
       "'abc'"
      ]
     },
     "execution_count": 192,
     "metadata": {},
     "output_type": "execute_result"
    }
   ],
   "source": [
    "# Первые 3 символа\n",
    "g[:3]"
   ]
  },
  {
   "cell_type": "code",
   "execution_count": 193,
   "id": "0735d5dc",
   "metadata": {},
   "outputs": [
    {
     "data": {
      "text/plain": [
       "'cdef'"
      ]
     },
     "execution_count": 193,
     "metadata": {},
     "output_type": "execute_result"
    }
   ],
   "source": [
    "# Все символы, начиная со второго индекса\n",
    "g[2:]"
   ]
  },
  {
   "cell_type": "code",
   "execution_count": 194,
   "id": "86d7afab",
   "metadata": {},
   "outputs": [
    {
     "data": {
      "text/plain": [
       "'bcd'"
      ]
     },
     "execution_count": 194,
     "metadata": {},
     "output_type": "execute_result"
    }
   ],
   "source": [
    "g[1:4]"
   ]
  },
  {
   "cell_type": "code",
   "execution_count": 195,
   "id": "0c655109",
   "metadata": {},
   "outputs": [
    {
     "data": {
      "text/plain": [
       "'f'"
      ]
     },
     "execution_count": 195,
     "metadata": {},
     "output_type": "execute_result"
    }
   ],
   "source": [
    "# Последний символ\n",
    "g[-1]"
   ]
  },
  {
   "cell_type": "code",
   "execution_count": 196,
   "id": "672a62fe",
   "metadata": {},
   "outputs": [
    {
     "data": {
      "text/plain": [
       "'ace'"
      ]
     },
     "execution_count": 196,
     "metadata": {},
     "output_type": "execute_result"
    }
   ],
   "source": [
    "# Каждый второй символ\n",
    "g[::2]"
   ]
  },
  {
   "cell_type": "code",
   "execution_count": 63,
   "id": "4971b3f8",
   "metadata": {},
   "outputs": [
    {
     "data": {
      "text/plain": [
       "'fedcba'"
      ]
     },
     "execution_count": 63,
     "metadata": {},
     "output_type": "execute_result"
    }
   ],
   "source": [
    "# Разворот строки\n",
    "g[::-1]"
   ]
  },
  {
   "cell_type": "code",
   "execution_count": 197,
   "id": "a81f74f5",
   "metadata": {},
   "outputs": [],
   "source": [
    "g += \"aa\"    # Аналогично g = g + \"aa\""
   ]
  },
  {
   "cell_type": "markdown",
   "id": "ea5e3534",
   "metadata": {},
   "source": [
    "## Методы класса str"
   ]
  },
  {
   "cell_type": "code",
   "execution_count": 198,
   "id": "c8b50c66",
   "metadata": {},
   "outputs": [
    {
     "data": {
      "text/plain": [
       "'abcdefaa'"
      ]
     },
     "execution_count": 198,
     "metadata": {},
     "output_type": "execute_result"
    }
   ],
   "source": [
    "g"
   ]
  },
  {
   "cell_type": "code",
   "execution_count": 199,
   "id": "116cda31",
   "metadata": {},
   "outputs": [
    {
     "data": {
      "text/plain": [
       "3"
      ]
     },
     "execution_count": 199,
     "metadata": {},
     "output_type": "execute_result"
    }
   ],
   "source": [
    "# Количество подстрок\n",
    "g.count(\"a\")"
   ]
  },
  {
   "cell_type": "code",
   "execution_count": 200,
   "id": "8e83e5d3",
   "metadata": {},
   "outputs": [
    {
     "data": {
      "text/plain": [
       "1"
      ]
     },
     "execution_count": 200,
     "metadata": {},
     "output_type": "execute_result"
    }
   ],
   "source": [
    "g.count(c)"
   ]
  },
  {
   "cell_type": "code",
   "execution_count": 201,
   "id": "b3c63a35",
   "metadata": {},
   "outputs": [
    {
     "data": {
      "text/plain": [
       "0"
      ]
     },
     "execution_count": 201,
     "metadata": {},
     "output_type": "execute_result"
    }
   ],
   "source": [
    "g.count(c[::-1])"
   ]
  },
  {
   "cell_type": "code",
   "execution_count": 202,
   "id": "32b0c070",
   "metadata": {},
   "outputs": [
    {
     "data": {
      "text/plain": [
       "1"
      ]
     },
     "execution_count": 202,
     "metadata": {},
     "output_type": "execute_result"
    }
   ],
   "source": [
    "g[::-1].count(c[::-1])"
   ]
  },
  {
   "cell_type": "code",
   "execution_count": 203,
   "id": "377cce8b",
   "metadata": {},
   "outputs": [
    {
     "data": {
      "text/plain": [
       "2"
      ]
     },
     "execution_count": 203,
     "metadata": {},
     "output_type": "execute_result"
    }
   ],
   "source": [
    "# Выдает индекс вхождения подстроки в строку\n",
    "g.find(\"cd\")"
   ]
  },
  {
   "cell_type": "code",
   "execution_count": 205,
   "id": "b8f40916",
   "metadata": {},
   "outputs": [],
   "source": [
    "g += \"cd\""
   ]
  },
  {
   "cell_type": "code",
   "execution_count": 206,
   "id": "d1a42a6a",
   "metadata": {},
   "outputs": [
    {
     "data": {
      "text/plain": [
       "2"
      ]
     },
     "execution_count": 206,
     "metadata": {},
     "output_type": "execute_result"
    }
   ],
   "source": [
    "# Но только первое вхождение\n",
    "g.find(\"cd\")"
   ]
  },
  {
   "cell_type": "code",
   "execution_count": 84,
   "id": "cf2f006e",
   "metadata": {},
   "outputs": [
    {
     "data": {
      "text/plain": [
       "-1"
      ]
     },
     "execution_count": 84,
     "metadata": {},
     "output_type": "execute_result"
    }
   ],
   "source": [
    "# Если ничего не нашли, то выдается -1 (ВСЕГДА)\n",
    "g.find(\"asdac\")"
   ]
  },
  {
   "cell_type": "code",
   "execution_count": 207,
   "id": "f826eeda",
   "metadata": {},
   "outputs": [
    {
     "data": {
      "text/plain": [
       "'abcdefaacd'"
      ]
     },
     "execution_count": 207,
     "metadata": {},
     "output_type": "execute_result"
    }
   ],
   "source": [
    "g"
   ]
  },
  {
   "cell_type": "code",
   "execution_count": 208,
   "id": "5af2eccf",
   "metadata": {},
   "outputs": [
    {
     "data": {
      "text/plain": [
       "['', 'bcdef', '', 'cd']"
      ]
     },
     "execution_count": 208,
     "metadata": {},
     "output_type": "execute_result"
    }
   ],
   "source": [
    "# split функция для разбиения строки по некототорому сепаратору\n",
    "g.split(\"a\")"
   ]
  },
  {
   "cell_type": "code",
   "execution_count": 212,
   "id": "70288b88",
   "metadata": {},
   "outputs": [
    {
     "data": {
      "text/plain": [
       "',bcdef,,cd'"
      ]
     },
     "execution_count": 212,
     "metadata": {},
     "output_type": "execute_result"
    }
   ],
   "source": [
    "# join для объединения списка с некоторым разделителем.\n",
    "g_split = g.split(\"a\")\n",
    "\",\".join(g_split)"
   ]
  },
  {
   "cell_type": "code",
   "execution_count": 90,
   "id": "9e694339",
   "metadata": {},
   "outputs": [
    {
     "data": {
      "text/plain": [
       "'bcdefcd'"
      ]
     },
     "execution_count": 90,
     "metadata": {},
     "output_type": "execute_result"
    }
   ],
   "source": [
    "# Можно указать пустой сепаратор\n",
    "\"\".join(g_split)"
   ]
  },
  {
   "cell_type": "code",
   "execution_count": 91,
   "id": "3f6f0273",
   "metadata": {},
   "outputs": [
    {
     "data": {
      "text/plain": [
       "'#bcdef##cd'"
      ]
     },
     "execution_count": 91,
     "metadata": {},
     "output_type": "execute_result"
    }
   ],
   "source": [
    "# Замена подстрок\n",
    "g.replace(\"a\", \"#\")"
   ]
  },
  {
   "cell_type": "code",
   "execution_count": 214,
   "id": "00ec3ab4",
   "metadata": {},
   "outputs": [
    {
     "data": {
      "text/plain": [
       "'#bcdef#acd'"
      ]
     },
     "execution_count": 214,
     "metadata": {},
     "output_type": "execute_result"
    }
   ],
   "source": [
    "# Можно заменять только несколько первых вхождений\n",
    "g.replace(\"a\", \"#\", 2)"
   ]
  },
  {
   "cell_type": "code",
   "execution_count": 153,
   "id": "f80940d0",
   "metadata": {},
   "outputs": [
    {
     "name": "stdout",
     "output_type": "stream",
     "text": [
      "ABC\n",
      "abc\n"
     ]
    }
   ],
   "source": [
    "# Смена регистра\n",
    "s = \"abC\"\n",
    "print(s.upper())\n",
    "print(s.lower())"
   ]
  },
  {
   "cell_type": "markdown",
   "id": "12d7804e",
   "metadata": {},
   "source": [
    "## Дополнительно"
   ]
  },
  {
   "cell_type": "code",
   "execution_count": 95,
   "id": "cb089cf4",
   "metadata": {},
   "outputs": [
    {
     "data": {
      "text/plain": [
       "4"
      ]
     },
     "execution_count": 95,
     "metadata": {},
     "output_type": "execute_result"
    }
   ],
   "source": [
    "# Можно суммировать переменные разных типов\n",
    "a + d   # Целое число + bool\n",
    "# Но лучше так НЕ ДЕЛАТЬ"
   ]
  },
  {
   "cell_type": "markdown",
   "id": "6698eab8",
   "metadata": {},
   "source": [
    "## Ввод-вывод"
   ]
  },
  {
   "cell_type": "code",
   "execution_count": 215,
   "id": "033e87a5",
   "metadata": {},
   "outputs": [
    {
     "name": "stdout",
     "output_type": "stream",
     "text": [
      "123\n"
     ]
    }
   ],
   "source": [
    "# Ввод\n",
    "a = input()"
   ]
  },
  {
   "cell_type": "code",
   "execution_count": 216,
   "id": "9ab368dc",
   "metadata": {},
   "outputs": [
    {
     "data": {
      "text/plain": [
       "'123'"
      ]
     },
     "execution_count": 216,
     "metadata": {},
     "output_type": "execute_result"
    }
   ],
   "source": [
    "# Всегда сохраняется сторка\n",
    "a"
   ]
  },
  {
   "cell_type": "code",
   "execution_count": 217,
   "id": "e365ac85",
   "metadata": {},
   "outputs": [
    {
     "name": "stdout",
     "output_type": "stream",
     "text": [
      "123\n"
     ]
    }
   ],
   "source": [
    "# Приводим к нужному типу\n",
    "a = int(input())"
   ]
  },
  {
   "cell_type": "code",
   "execution_count": 218,
   "id": "a025679d",
   "metadata": {},
   "outputs": [
    {
     "data": {
      "text/plain": [
       "123"
      ]
     },
     "execution_count": 218,
     "metadata": {},
     "output_type": "execute_result"
    }
   ],
   "source": [
    "a"
   ]
  },
  {
   "cell_type": "code",
   "execution_count": 219,
   "id": "c041a77a",
   "metadata": {},
   "outputs": [
    {
     "name": "stdout",
     "output_type": "stream",
     "text": [
      "123\n"
     ]
    }
   ],
   "source": [
    "a = float(input())"
   ]
  },
  {
   "cell_type": "code",
   "execution_count": 220,
   "id": "2dfd0516",
   "metadata": {},
   "outputs": [
    {
     "data": {
      "text/plain": [
       "123.0"
      ]
     },
     "execution_count": 220,
     "metadata": {},
     "output_type": "execute_result"
    }
   ],
   "source": [
    "a"
   ]
  },
  {
   "cell_type": "code",
   "execution_count": 221,
   "id": "0179dea3",
   "metadata": {},
   "outputs": [
    {
     "name": "stdout",
     "output_type": "stream",
     "text": [
      "123.0\n"
     ]
    }
   ],
   "source": [
    "# Вывод\n",
    "print(a)"
   ]
  },
  {
   "cell_type": "code",
   "execution_count": 222,
   "id": "7c2b1b37",
   "metadata": {},
   "outputs": [
    {
     "name": "stdout",
     "output_type": "stream",
     "text": [
      "123.0\n",
      "5\n",
      "abc\n",
      "True\n"
     ]
    }
   ],
   "source": [
    "# Множественный вывод (всегда после print происходит перенос строки)\n",
    "print(a)\n",
    "print(b)\n",
    "print(c)\n",
    "print(d)"
   ]
  },
  {
   "cell_type": "code",
   "execution_count": 106,
   "id": "c935910c",
   "metadata": {},
   "outputs": [
    {
     "name": "stdout",
     "output_type": "stream",
     "text": [
      "123.0 5 abc True\n"
     ]
    }
   ],
   "source": [
    "# Множественный вывод (между всеми переменными ставится пробел)\n",
    "print(a, b, c, d)"
   ]
  },
  {
   "cell_type": "code",
   "execution_count": 223,
   "id": "25570a0c",
   "metadata": {},
   "outputs": [
    {
     "name": "stdout",
     "output_type": "stream",
     "text": [
      "123.0 5 abc True "
     ]
    }
   ],
   "source": [
    "# Аналогичный верхнему код\n",
    "print(a, end=\" \")\n",
    "print(b, end=\" \")\n",
    "print(c, end=\" \")\n",
    "print(d, end=\" \")"
   ]
  },
  {
   "cell_type": "code",
   "execution_count": 225,
   "id": "2742cdf2",
   "metadata": {},
   "outputs": [
    {
     "name": "stdout",
     "output_type": "stream",
     "text": [
      "123.0;5;abc;True\n"
     ]
    }
   ],
   "source": [
    "# При выводе одним принтом можно указать сепаратор\n",
    "print(a, b, c, d, sep=\";\")"
   ]
  },
  {
   "cell_type": "markdown",
   "id": "590878c5",
   "metadata": {},
   "source": [
    "## Перевод в различные СС"
   ]
  },
  {
   "cell_type": "code",
   "execution_count": 116,
   "id": "fde91a3d",
   "metadata": {},
   "outputs": [
    {
     "data": {
      "text/plain": [
       "25"
      ]
     },
     "execution_count": 116,
     "metadata": {},
     "output_type": "execute_result"
    }
   ],
   "source": [
    "# На вход функции int можно передать строку записи в недесятичной системе, с указанием этой самой системы\n",
    "# Результат будет выведен в десятичной записи\n",
    "int('11001', 2)"
   ]
  },
  {
   "cell_type": "code",
   "execution_count": 115,
   "id": "b99e3141",
   "metadata": {},
   "outputs": [
    {
     "data": {
      "text/plain": [
       "171"
      ]
     },
     "execution_count": 115,
     "metadata": {},
     "output_type": "execute_result"
    }
   ],
   "source": [
    "int('AB', 16)"
   ]
  },
  {
   "cell_type": "code",
   "execution_count": 117,
   "id": "11613355",
   "metadata": {},
   "outputs": [
    {
     "data": {
      "text/plain": [
       "'0b100111'"
      ]
     },
     "execution_count": 117,
     "metadata": {},
     "output_type": "execute_result"
    }
   ],
   "source": [
    "# Перевод десятичного числа в двоичную систему\n",
    "bin(39)"
   ]
  },
  {
   "cell_type": "code",
   "execution_count": 118,
   "id": "355e13be",
   "metadata": {},
   "outputs": [
    {
     "data": {
      "text/plain": [
       "'0o47'"
      ]
     },
     "execution_count": 118,
     "metadata": {},
     "output_type": "execute_result"
    }
   ],
   "source": [
    "# Перевод десятичного числа в восьмеричную систему\n",
    "oct(39)"
   ]
  },
  {
   "cell_type": "code",
   "execution_count": 120,
   "id": "13e63056",
   "metadata": {},
   "outputs": [
    {
     "data": {
      "text/plain": [
       "'0x27'"
      ]
     },
     "execution_count": 120,
     "metadata": {},
     "output_type": "execute_result"
    }
   ],
   "source": [
    "# Шестнадцатиричную\n",
    "hex(39)"
   ]
  },
  {
   "cell_type": "code",
   "execution_count": 230,
   "id": "9ef98904",
   "metadata": {},
   "outputs": [
    {
     "data": {
      "text/plain": [
       "'100111'"
      ]
     },
     "execution_count": 230,
     "metadata": {},
     "output_type": "execute_result"
    }
   ],
   "source": [
    "bin(39)[2:]"
   ]
  },
  {
   "cell_type": "markdown",
   "id": "51f47ebe",
   "metadata": {},
   "source": [
    "## Булевы функции"
   ]
  },
  {
   "cell_type": "code",
   "execution_count": 231,
   "id": "656848dd",
   "metadata": {},
   "outputs": [],
   "source": [
    "a = 5\n",
    "b = 3\n",
    "c = 5\n",
    "d = True\n",
    "e = False\n",
    "f = \"def\""
   ]
  },
  {
   "cell_type": "code",
   "execution_count": 232,
   "id": "cf9b6b6f",
   "metadata": {},
   "outputs": [
    {
     "data": {
      "text/plain": [
       "True"
      ]
     },
     "execution_count": 232,
     "metadata": {},
     "output_type": "execute_result"
    }
   ],
   "source": [
    "a > b # Аналогично a < b"
   ]
  },
  {
   "cell_type": "code",
   "execution_count": 233,
   "id": "47725ba6",
   "metadata": {},
   "outputs": [
    {
     "data": {
      "text/plain": [
       "True"
      ]
     },
     "execution_count": 233,
     "metadata": {},
     "output_type": "execute_result"
    }
   ],
   "source": [
    "a == c # Тождество"
   ]
  },
  {
   "cell_type": "code",
   "execution_count": 234,
   "id": "ee78f711",
   "metadata": {},
   "outputs": [
    {
     "data": {
      "text/plain": [
       "False"
      ]
     },
     "execution_count": 234,
     "metadata": {},
     "output_type": "execute_result"
    }
   ],
   "source": [
    "a != c # Взаимоисключающее ИЛИ"
   ]
  },
  {
   "cell_type": "code",
   "execution_count": 235,
   "id": "6161a960",
   "metadata": {},
   "outputs": [
    {
     "data": {
      "text/plain": [
       "True"
      ]
     },
     "execution_count": 235,
     "metadata": {},
     "output_type": "execute_result"
    }
   ],
   "source": [
    "a >= c # Аналогично a < c"
   ]
  },
  {
   "cell_type": "code",
   "execution_count": 236,
   "id": "2bf0396c",
   "metadata": {},
   "outputs": [
    {
     "data": {
      "text/plain": [
       "False"
      ]
     },
     "execution_count": 236,
     "metadata": {},
     "output_type": "execute_result"
    }
   ],
   "source": [
    "not d # Инверсия"
   ]
  },
  {
   "cell_type": "code",
   "execution_count": 237,
   "id": "fccacd3d",
   "metadata": {},
   "outputs": [
    {
     "data": {
      "text/plain": [
       "True"
      ]
     },
     "execution_count": 237,
     "metadata": {},
     "output_type": "execute_result"
    }
   ],
   "source": [
    "e <= d # Импликация"
   ]
  },
  {
   "cell_type": "code",
   "execution_count": 238,
   "id": "0788cee7",
   "metadata": {},
   "outputs": [
    {
     "data": {
      "text/plain": [
       "False"
      ]
     },
     "execution_count": 238,
     "metadata": {},
     "output_type": "execute_result"
    }
   ],
   "source": [
    "d and e # Логическое И"
   ]
  },
  {
   "cell_type": "code",
   "execution_count": 239,
   "id": "4f9b807b",
   "metadata": {},
   "outputs": [
    {
     "data": {
      "text/plain": [
       "True"
      ]
     },
     "execution_count": 239,
     "metadata": {},
     "output_type": "execute_result"
    }
   ],
   "source": [
    "d or e # Логическое ИЛИ"
   ]
  },
  {
   "cell_type": "markdown",
   "id": "66c44a42",
   "metadata": {},
   "source": [
    "## Условные операторы"
   ]
  },
  {
   "cell_type": "code",
   "execution_count": 242,
   "id": "ef307730",
   "metadata": {},
   "outputs": [
    {
     "name": "stdout",
     "output_type": "stream",
     "text": [
      "3\n",
      "Больше нуля\n"
     ]
    }
   ],
   "source": [
    "# Обычный if\n",
    "a = int(input())\n",
    "if a > 0:\n",
    "    print(\"Больше нуля\")"
   ]
  },
  {
   "cell_type": "code",
   "execution_count": 244,
   "id": "c975189d",
   "metadata": {},
   "outputs": [
    {
     "name": "stdout",
     "output_type": "stream",
     "text": [
      "-2\n"
     ]
    }
   ],
   "source": [
    "# Можно писать сколько угодно длинный код внутри блока\n",
    "a = int(input())\n",
    "if a > 0:\n",
    "    a = a * 2\n",
    "    print(a)"
   ]
  },
  {
   "cell_type": "code",
   "execution_count": 137,
   "id": "3ce1cca3",
   "metadata": {},
   "outputs": [
    {
     "name": "stdout",
     "output_type": "stream",
     "text": [
      "-2\n",
      "-1.0\n"
     ]
    }
   ],
   "source": [
    "# Оператор else\n",
    "a = int(input())\n",
    "if a > 0:\n",
    "    a *= 2\n",
    "    print(a)\n",
    "else:\n",
    "    a /= 2\n",
    "    print(a)"
   ]
  },
  {
   "cell_type": "code",
   "execution_count": 246,
   "id": "5e004808",
   "metadata": {},
   "outputs": [
    {
     "name": "stdout",
     "output_type": "stream",
     "text": [
      "-5\n",
      "-2.5\n"
     ]
    }
   ],
   "source": [
    "# operator elif (else if)\n",
    "a = int(input())\n",
    "if a > 0:\n",
    "    a *= 2\n",
    "    print(a)\n",
    "elif a == 0:\n",
    "    print(\"Zero\")\n",
    "else:\n",
    "    a /= 2\n",
    "    print(a)"
   ]
  },
  {
   "cell_type": "markdown",
   "id": "50dd20ed",
   "metadata": {},
   "source": [
    "В качестве доп. материала предлагаю почитать про match case, но если не уверены, что разобрались, не пользуйтесь им на ЕГЭ: https://pythonist.ru/konstrukcziya-match-case-v-python-polnoe-rukovodstvo/"
   ]
  },
  {
   "cell_type": "markdown",
   "id": "349f74c4",
   "metadata": {},
   "source": [
    "## Циклы"
   ]
  },
  {
   "cell_type": "code",
   "execution_count": 247,
   "id": "e743ffdd",
   "metadata": {},
   "outputs": [
    {
     "name": "stdout",
     "output_type": "stream",
     "text": [
      "10\n",
      "10\n",
      "9\n",
      "8\n",
      "7\n",
      "6\n",
      "5\n",
      "4\n",
      "3\n",
      "2\n",
      "1\n"
     ]
    }
   ],
   "source": [
    "# Цикл while\n",
    "a = int(input())\n",
    "while a > 0:\n",
    "    print(a)\n",
    "    a -= 1"
   ]
  },
  {
   "cell_type": "code",
   "execution_count": 248,
   "id": "63f37c38",
   "metadata": {},
   "outputs": [
    {
     "name": "stdout",
     "output_type": "stream",
     "text": [
      "10\n",
      "10\n",
      "9\n",
      "8\n",
      "7\n",
      "6\n",
      "5\n",
      "4\n",
      "3\n"
     ]
    }
   ],
   "source": [
    "a = int(input())\n",
    "b = True\n",
    "while a > 0 and b == True:\n",
    "    print(a)\n",
    "    if a == 3:\n",
    "        b = False\n",
    "    a -= 1"
   ]
  },
  {
   "cell_type": "code",
   "execution_count": 249,
   "id": "79948690",
   "metadata": {},
   "outputs": [
    {
     "name": "stdout",
     "output_type": "stream",
     "text": [
      "10\n",
      "10\n",
      "9\n",
      "8\n",
      "7\n",
      "6\n",
      "5\n",
      "4\n",
      "3\n"
     ]
    }
   ],
   "source": [
    "# Аналогично коду выше, но с оператором break\n",
    "a = int(input())\n",
    "while a > 0:\n",
    "    print(a)\n",
    "    if a == 3:\n",
    "        break\n",
    "    a -= 1"
   ]
  },
  {
   "cell_type": "code",
   "execution_count": 250,
   "id": "2edc625c",
   "metadata": {},
   "outputs": [
    {
     "name": "stdout",
     "output_type": "stream",
     "text": [
      "0\n",
      "1\n",
      "2\n",
      "3\n",
      "4\n",
      "5\n",
      "6\n",
      "7\n",
      "8\n",
      "9\n"
     ]
    }
   ],
   "source": [
    "# Цикл for\n",
    "# Обычно, циклу for подается некоторый объект, по которому можно итерироваться (после in).\n",
    "# Обычно используется range, но также можно подавать списки, массивы и вообще много чего.\n",
    "# До in подается некоторое название переменной, которая поочередно на каждой итерации цикла\n",
    "# будет хранить в себе текущее значение в итерируемом объекте.\n",
    "for i in range(10):\n",
    "    print(i)"
   ]
  },
  {
   "cell_type": "code",
   "execution_count": 251,
   "id": "14001e23",
   "metadata": {},
   "outputs": [
    {
     "name": "stdout",
     "output_type": "stream",
     "text": [
      "\n",
      "bcdef\n",
      "\n",
      "cd\n"
     ]
    }
   ],
   "source": [
    "# Итерирование по списку\n",
    "for i in g_split:\n",
    "    print(i)"
   ]
  },
  {
   "cell_type": "code",
   "execution_count": 254,
   "id": "063710af",
   "metadata": {},
   "outputs": [
    {
     "name": "stdout",
     "output_type": "stream",
     "text": [
      "a\n",
      "b\n",
      "c\n",
      "d\n",
      "e\n",
      "f\n",
      "a\n",
      "a\n",
      "c\n",
      "d\n"
     ]
    }
   ],
   "source": [
    "# Итерирование по строке\n",
    "for i in g:\n",
    "    print(i)"
   ]
  },
  {
   "cell_type": "code",
   "execution_count": 255,
   "id": "f462e5c9",
   "metadata": {},
   "outputs": [
    {
     "name": "stdout",
     "output_type": "stream",
     "text": [
      "a\n",
      "b\n",
      "c\n",
      "d\n",
      "e\n",
      "f\n"
     ]
    }
   ],
   "source": [
    "# Можно использовать break\n",
    "# Выведем все буквы в строке g до второй бувы a\n",
    "cnt_a = 0\n",
    "for i in g:\n",
    "    if i == \"a\":\n",
    "        cnt_a += 1\n",
    "    if cnt_a == 2:\n",
    "        break\n",
    "    print(i)"
   ]
  },
  {
   "cell_type": "code",
   "execution_count": 256,
   "id": "50fbeb0a",
   "metadata": {},
   "outputs": [
    {
     "name": "stdout",
     "output_type": "stream",
     "text": [
      "1\n",
      "3\n",
      "5\n",
      "7\n",
      "9\n"
     ]
    }
   ],
   "source": [
    "# Оператор continue - начинает цикл с новой итерации\n",
    "cnt_a = 0\n",
    "for i in range(10):\n",
    "    if i % 2 == 0:\n",
    "        continue\n",
    "    print(i)"
   ]
  },
  {
   "cell_type": "code",
   "execution_count": 258,
   "id": "26c2ec55",
   "metadata": {},
   "outputs": [
    {
     "name": "stdout",
     "output_type": "stream",
     "text": [
      "1\n",
      "3\n",
      "5\n",
      "1\n",
      "3\n",
      "5\n",
      "1\n",
      "3\n",
      "5\n"
     ]
    }
   ],
   "source": [
    "# И break, и continue работают только на тот цикл, в который они вложены\n",
    "cnt_a = 0\n",
    "for i in range(3):\n",
    "    for i in range(6):\n",
    "        if i % 2 == 0:\n",
    "            continue\n",
    "        print(i)"
   ]
  },
  {
   "cell_type": "code",
   "execution_count": 259,
   "id": "3698dda8",
   "metadata": {},
   "outputs": [
    {
     "name": "stdout",
     "output_type": "stream",
     "text": [
      "1\n",
      "2\n",
      "1\n",
      "2\n",
      "1\n",
      "2\n"
     ]
    }
   ],
   "source": [
    "# break выпал только из внутреннего цикла, на внешний это никак не сказалось.\n",
    "cnt_a = 0\n",
    "for i in range(3):\n",
    "    for i in range(1, 6):\n",
    "        if i % 3 == 0:\n",
    "            break\n",
    "        print(i)"
   ]
  },
  {
   "cell_type": "markdown",
   "id": "28004a74",
   "metadata": {},
   "source": [
    "## Практика"
   ]
  },
  {
   "cell_type": "markdown",
   "id": "bc0fc453",
   "metadata": {},
   "source": [
    "1) На вход программе подается два числа - значений длин катетов прямоугольного треугольника. Необходимо вывести значение длины гипотенузы. Не забудьте проверить задачу на состоятельность. При некорректных данных выведите сообщение об ошибке. \\\n",
    "\\\n",
    "2) Напишите код реализации функции find_all (в виде циклов), которая на вход получает строку, а на выход выдает строку, в которой через запятую указаны все индексы вхождения подстроки в строку. Можно использовать функцию find. \\\n",
    "\\\n",
    "3) На вход программе подается число N (натуральное). Затем подается N строк. Необходимо вывести количество строк, содержащих хотя бы одну букву \"a\" (в нижнем регистре). \\\n",
    "\\\n",
    "4) В некотором магазине \"Четверочка\" происходит закупка товара. На вход программе подается сумма бюджета магазина, а затем подаются числа > 0 - стоимости товаров, которые магазин хочет закупить. Реализуйте код, который будет принимать стоимости товаров до тех пор, пока не закончится бюджет. В конце программы необходимо вывести оставшийся бюджет магазина. Подсказка: логично, что бюджет не должен стать отрицательным. Товар, который превышает бюджет не должен входить в учет бюджета. "
   ]
  },
  {
   "cell_type": "code",
   "execution_count": 265,
   "id": "e7cbbaac",
   "metadata": {},
   "outputs": [
    {
     "name": "stdout",
     "output_type": "stream",
     "text": [
      "4\n",
      "5\n",
      "6.40312\n"
     ]
    }
   ],
   "source": [
    "# 1\n",
    "a = int(input())\n",
    "b = int(input())\n",
    "if a <= 0 or b <= 0:\n",
    "    print(\"error\")\n",
    "else:\n",
    "    print(round((a**2 + b**2)**0.5, 5))"
   ]
  },
  {
   "cell_type": "code",
   "execution_count": null,
   "id": "4f3f333e",
   "metadata": {},
   "outputs": [],
   "source": [
    "a = int(input())\n",
    "b = int(input())\n",
    "if a <= 0 or b <= 0:\n",
    "    print(\"error\")\n",
    "else:\n",
    "    print((a**2 + b**2)**0.5)"
   ]
  },
  {
   "cell_type": "code",
   "execution_count": 268,
   "id": "dc6e7407",
   "metadata": {},
   "outputs": [
    {
     "name": "stdout",
     "output_type": "stream",
     "text": [
      "0\n",
      "1\n",
      "Ошибка\n"
     ]
    }
   ],
   "source": [
    "from math import sqrt\n",
    "\n",
    "a = int(input())\n",
    "b = int(input())\n",
    "\n",
    "if a > 0 and b > 0:\n",
    "    c = sqrt(a ** 2 + b ** 2)\n",
    "    print(c)\n",
    "else:\n",
    "    print('Ошибка')"
   ]
  },
  {
   "cell_type": "code",
   "execution_count": 279,
   "id": "a5a70dc9",
   "metadata": {},
   "outputs": [
    {
     "name": "stdout",
     "output_type": "stream",
     "text": [
      "0,9,18\n"
     ]
    }
   ],
   "source": [
    "# 2\n",
    "# НЕПРАВИЛЬНОЕ РЕШЕНИЕ! НУЖНО ИСПРАВЛЯТЬ\n",
    "g = \"abcdsabasdbaabcasfaksvfacbakcsbakabcaaaabc\"\n",
    "w = \"abc\"\n",
    "res = \"\"\n",
    "idx = g.find(w)\n",
    "res += str(idx)\n",
    "idx + len(w)\n",
    "g = g[idx + len(w):]\n",
    "while idx != -1:\n",
    "    idx = g.find(w)\n",
    "    if idx == -1:\n",
    "        break\n",
    "    res += f\",{str(idx)}\"\n",
    "    g = g[idx + len(w):]\n",
    "print(res)"
   ]
  },
  {
   "cell_type": "code",
   "execution_count": 280,
   "id": "e7c40f6f",
   "metadata": {},
   "outputs": [
    {
     "name": "stdout",
     "output_type": "stream",
     "text": [
      "3\n",
      "abc\n",
      "dna\n",
      "f\n",
      "2\n"
     ]
    }
   ],
   "source": [
    "# 3\n",
    "N = int(input())\n",
    "cnt = 0\n",
    "for i in range(N):\n",
    "    s = input()\n",
    "    if \"a\" in s:   # Аналогично s.find(\"a\") != -1:\n",
    "        cnt += 1\n",
    "print(cnt)"
   ]
  },
  {
   "cell_type": "markdown",
   "id": "07e6bf9e",
   "metadata": {},
   "source": [
    "## ДЗ"
   ]
  },
  {
   "cell_type": "markdown",
   "id": "9f5ca601",
   "metadata": {},
   "source": [
    "1) На вход программе подается целое число M. Затем подается натуральное N. Затем подается N целых чисел. Необходимо среди N чисел вывести то, которое по модулю ближе всего к M. В данной задаче ЗАПРЕЩЕНО использовать функцию модуля, максимума и минимума. В противном случае решение не приму. \\\n",
    "\\\n",
    "2) На вход программе подается четыре числа: Координата финиша (s), скорость (v), ускорение (a), время движения (t) некоторого объекта. Будем считать, что объект движется по прямой. При этом скорость, координата финиша и ускорение могут быть отрицательными. Время всегда положительное число (>0). При этом известно, что если объект в некоторый момент времени, меньший t, добрался до финиша, то он останавливается и больше не двигается. Напишите код, который будет выводить координату объекта через время t с учетом того, что он движется со скоростью v и ускорением a из точки с координатой 0. \\\n",
    "\\\n",
    "3) На вход программе подается некоторая строка, состоящая из маленьких латинских букв. Вывидите количество всех буквы (даже тех, которые не встречались в строке) для этой строки. Данные по каждой букве выводите с новой строки. \\\n",
    "\\\n",
    "4) Некоторый Хуторной Дмитрий решил собрать данные по успеваемости своих студентов на некотором курсе. На вход программе подаются строки в формате \"<Фамилия> <Оценки, указанные через запятую>\" для каждого студента. Программа останавливает считывание, когда к ней приходит пустая строка (необходимо ввести условие на проверку введенной строки и, если она пуста, то выходить из цикла). Программа должна вывести Фамилию студента с максимальным средним балом и соответствующий средний бал, разделенные пробелом. \\\n",
    "\\\n",
    "5) На вход программе в одну строку подаются слова, разделенные запятыми. Необходимо вывести строку с наибольшим содержанием в ней букв \"a\" (нижний регистр). Если таких строк несколько, то вывести самую первую в списке."
   ]
  }
 ],
 "metadata": {
  "kernelspec": {
   "display_name": "Python 3 (ipykernel)",
   "language": "python",
   "name": "python3"
  },
  "language_info": {
   "codemirror_mode": {
    "name": "ipython",
    "version": 3
   },
   "file_extension": ".py",
   "mimetype": "text/x-python",
   "name": "python",
   "nbconvert_exporter": "python",
   "pygments_lexer": "ipython3",
   "version": "3.11.4"
  }
 },
 "nbformat": 4,
 "nbformat_minor": 5
}
